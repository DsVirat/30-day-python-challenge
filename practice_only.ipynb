{
 "cells": [
  {
   "cell_type": "markdown",
   "id": "d3705092",
   "metadata": {},
   "source": [
    "**Lists**"
   ]
  },
  {
   "cell_type": "code",
   "execution_count": 37,
   "id": "615d280c",
   "metadata": {},
   "outputs": [
    {
     "name": "stdout",
     "output_type": "stream",
     "text": [
      "['History', 'Math', 'Physics', 'CompSci']\n"
     ]
    }
   ],
   "source": [
    "courses = [\"History\",\"Math\",\"Physics\",\"CompSci\"]\n",
    "print(courses)"
   ]
  },
  {
   "cell_type": "code",
   "execution_count": 2,
   "id": "d1853fbd",
   "metadata": {},
   "outputs": [
    {
     "name": "stdout",
     "output_type": "stream",
     "text": [
      "4\n"
     ]
    }
   ],
   "source": [
    "print(len(courses))"
   ]
  },
  {
   "cell_type": "code",
   "execution_count": 3,
   "id": "9d3833e8",
   "metadata": {},
   "outputs": [
    {
     "name": "stdout",
     "output_type": "stream",
     "text": [
      "History\n"
     ]
    }
   ],
   "source": [
    "print(courses[0])"
   ]
  },
  {
   "cell_type": "code",
   "execution_count": 4,
   "id": "71f66784",
   "metadata": {},
   "outputs": [
    {
     "name": "stdout",
     "output_type": "stream",
     "text": [
      "CompSci\n"
     ]
    }
   ],
   "source": [
    "print(courses[-1])"
   ]
  },
  {
   "cell_type": "code",
   "execution_count": 5,
   "id": "75461642",
   "metadata": {},
   "outputs": [
    {
     "data": {
      "text/plain": [
       "['History', 'Math', 'hindi', 'Physics', 'CompSci']"
      ]
     },
     "execution_count": 5,
     "metadata": {},
     "output_type": "execute_result"
    }
   ],
   "source": [
    "courses.insert(2,'hindi')\n",
    "courses"
   ]
  },
  {
   "cell_type": "code",
   "execution_count": 6,
   "id": "b8aa8a3b",
   "metadata": {},
   "outputs": [],
   "source": [
    "courses_2 = ['Arts','Eco']\n",
    "courses.extend(courses_2)"
   ]
  },
  {
   "cell_type": "code",
   "execution_count": 7,
   "id": "7345ca28",
   "metadata": {},
   "outputs": [
    {
     "data": {
      "text/plain": [
       "['History', 'Math', 'hindi', 'Physics', 'CompSci', 'Arts', 'Eco']"
      ]
     },
     "execution_count": 7,
     "metadata": {},
     "output_type": "execute_result"
    }
   ],
   "source": [
    "courses"
   ]
  },
  {
   "cell_type": "code",
   "execution_count": 8,
   "id": "b919f549",
   "metadata": {},
   "outputs": [
    {
     "data": {
      "text/plain": [
       "'Eco'"
      ]
     },
     "execution_count": 8,
     "metadata": {},
     "output_type": "execute_result"
    }
   ],
   "source": [
    "popped = courses.pop()\n",
    "popped"
   ]
  },
  {
   "cell_type": "code",
   "execution_count": 10,
   "id": "d5146b32",
   "metadata": {},
   "outputs": [
    {
     "name": "stdout",
     "output_type": "stream",
     "text": [
      "None\n"
     ]
    }
   ],
   "source": [
    "print(courses.reverse())"
   ]
  },
  {
   "cell_type": "code",
   "execution_count": 11,
   "id": "7a60819c",
   "metadata": {},
   "outputs": [
    {
     "data": {
      "text/plain": [
       "['History', 'Math', 'hindi', 'Physics', 'CompSci', 'Arts']"
      ]
     },
     "execution_count": 11,
     "metadata": {},
     "output_type": "execute_result"
    }
   ],
   "source": [
    "courses"
   ]
  },
  {
   "cell_type": "code",
   "execution_count": 12,
   "id": "0de27a41",
   "metadata": {},
   "outputs": [],
   "source": [
    "courses.reverse()"
   ]
  },
  {
   "cell_type": "code",
   "execution_count": 13,
   "id": "b83f111b",
   "metadata": {},
   "outputs": [],
   "source": [
    "courses = courses.reverse()\n",
    "courses"
   ]
  },
  {
   "cell_type": "code",
   "execution_count": 14,
   "id": "4e21dee1",
   "metadata": {},
   "outputs": [],
   "source": [
    "courses"
   ]
  },
  {
   "cell_type": "code",
   "execution_count": 15,
   "id": "10a9cce3",
   "metadata": {},
   "outputs": [
    {
     "name": "stdout",
     "output_type": "stream",
     "text": [
      "None\n"
     ]
    }
   ],
   "source": [
    "print(courses)"
   ]
  },
  {
   "cell_type": "code",
   "execution_count": 16,
   "id": "36c0f164",
   "metadata": {},
   "outputs": [],
   "source": [
    "courses = [\"History\",\"Math\",\"Physics\",\"CompSci\"]"
   ]
  },
  {
   "cell_type": "code",
   "execution_count": 17,
   "id": "a7176188",
   "metadata": {},
   "outputs": [],
   "source": [
    "courses.reverse()"
   ]
  },
  {
   "cell_type": "code",
   "execution_count": 18,
   "id": "081584d8",
   "metadata": {},
   "outputs": [
    {
     "data": {
      "text/plain": [
       "['CompSci', 'Physics', 'Math', 'History']"
      ]
     },
     "execution_count": 18,
     "metadata": {},
     "output_type": "execute_result"
    }
   ],
   "source": [
    "courses"
   ]
  },
  {
   "cell_type": "code",
   "execution_count": null,
   "id": "b427ab86",
   "metadata": {},
   "outputs": [],
   "source": [
    "courses.sort(reverse=True)"
   ]
  },
  {
   "cell_type": "code",
   "execution_count": 20,
   "id": "10d2ff0f",
   "metadata": {},
   "outputs": [
    {
     "name": "stdout",
     "output_type": "stream",
     "text": [
      "['CompSci', 'History', 'Math', 'Physics']\n"
     ]
    }
   ],
   "source": [
    "print(courses)"
   ]
  },
  {
   "cell_type": "code",
   "execution_count": 21,
   "id": "f33f0065",
   "metadata": {},
   "outputs": [],
   "source": [
    "nums = [1,5,2,4,3]"
   ]
  },
  {
   "cell_type": "code",
   "execution_count": 22,
   "id": "c3c53ff7",
   "metadata": {},
   "outputs": [
    {
     "data": {
      "text/plain": [
       "[3, 4, 2, 5, 1]"
      ]
     },
     "execution_count": 22,
     "metadata": {},
     "output_type": "execute_result"
    }
   ],
   "source": [
    "nums.reverse()\n",
    "nums"
   ]
  },
  {
   "cell_type": "code",
   "execution_count": 23,
   "id": "f4666c13",
   "metadata": {},
   "outputs": [],
   "source": [
    "nums.sort(reverse=True)"
   ]
  },
  {
   "cell_type": "code",
   "execution_count": 24,
   "id": "2e3c481c",
   "metadata": {},
   "outputs": [
    {
     "data": {
      "text/plain": [
       "[5, 4, 3, 2, 1]"
      ]
     },
     "execution_count": 24,
     "metadata": {},
     "output_type": "execute_result"
    }
   ],
   "source": [
    "nums"
   ]
  },
  {
   "cell_type": "code",
   "execution_count": 25,
   "id": "0abea729",
   "metadata": {},
   "outputs": [
    {
     "data": {
      "text/plain": [
       "['CompSci', 'History', 'Math', 'Physics']"
      ]
     },
     "execution_count": 25,
     "metadata": {},
     "output_type": "execute_result"
    }
   ],
   "source": [
    "sorted_courses = sorted(courses)\n",
    "sorted_courses"
   ]
  },
  {
   "cell_type": "code",
   "execution_count": 26,
   "id": "8adde437",
   "metadata": {},
   "outputs": [
    {
     "data": {
      "text/plain": [
       "1"
      ]
     },
     "execution_count": 26,
     "metadata": {},
     "output_type": "execute_result"
    }
   ],
   "source": [
    "min(nums)"
   ]
  },
  {
   "cell_type": "code",
   "execution_count": 27,
   "id": "cab9abb4",
   "metadata": {},
   "outputs": [
    {
     "data": {
      "text/plain": [
       "5"
      ]
     },
     "execution_count": 27,
     "metadata": {},
     "output_type": "execute_result"
    }
   ],
   "source": [
    "max(nums)"
   ]
  },
  {
   "cell_type": "code",
   "execution_count": 30,
   "id": "64700ad1",
   "metadata": {},
   "outputs": [
    {
     "name": "stdout",
     "output_type": "stream",
     "text": [
      "0\n"
     ]
    }
   ],
   "source": [
    "print(courses.index(\"CompSci\"))"
   ]
  },
  {
   "cell_type": "code",
   "execution_count": 31,
   "id": "39d0aa00",
   "metadata": {},
   "outputs": [
    {
     "name": "stdout",
     "output_type": "stream",
     "text": [
      "True\n"
     ]
    }
   ],
   "source": [
    "print('Math' in courses)"
   ]
  },
  {
   "cell_type": "code",
   "execution_count": 33,
   "id": "9fb361ce",
   "metadata": {},
   "outputs": [
    {
     "name": "stdout",
     "output_type": "stream",
     "text": [
      "CompSci\n",
      "History\n",
      "Math\n",
      "Physics\n"
     ]
    }
   ],
   "source": [
    "for item in courses:\n",
    "    print(item)"
   ]
  },
  {
   "cell_type": "code",
   "execution_count": 35,
   "id": "f1bb1d7d",
   "metadata": {},
   "outputs": [
    {
     "name": "stdout",
     "output_type": "stream",
     "text": [
      "Item:CompSci index:1\n",
      "Item:History index:2\n",
      "Item:Math index:3\n",
      "Item:Physics index:4\n"
     ]
    }
   ],
   "source": [
    "for index,item in enumerate(courses, start=1):\n",
    "    print(f\"Item:{item} index:{index}\")"
   ]
  },
  {
   "cell_type": "code",
   "execution_count": 36,
   "id": "a0b2ae89",
   "metadata": {},
   "outputs": [
    {
     "data": {
      "text/plain": [
       "'CompSci|History|Math|Physics'"
      ]
     },
     "execution_count": 36,
     "metadata": {},
     "output_type": "execute_result"
    }
   ],
   "source": [
    "str_courses = \"|\".join(courses)\n",
    "str_courses"
   ]
  },
  {
   "cell_type": "code",
   "execution_count": 38,
   "id": "0b2d2b94",
   "metadata": {},
   "outputs": [
    {
     "data": {
      "text/plain": [
       "['CompSci', 'History', 'Math', 'Physics']"
      ]
     },
     "execution_count": 38,
     "metadata": {},
     "output_type": "execute_result"
    }
   ],
   "source": [
    "new_list = str_courses.split('|')\n",
    "new_list"
   ]
  },
  {
   "cell_type": "markdown",
   "id": "98441731",
   "metadata": {},
   "source": [
    "**Tuples**"
   ]
  },
  {
   "cell_type": "code",
   "execution_count": 40,
   "id": "8f7beb6b",
   "metadata": {},
   "outputs": [],
   "source": [
    "# we cannot modify tuples"
   ]
  },
  {
   "cell_type": "code",
   "execution_count": null,
   "id": "720fc2e1",
   "metadata": {},
   "outputs": [
    {
     "name": "stdout",
     "output_type": "stream",
     "text": [
      "['History', 'Math', 'Physics', 'CompSci']\n",
      "['History', 'Math', 'Physics', 'CompSci']\n",
      "['Arts', 'Math', 'Physics', 'CompSci']\n",
      "['Arts', 'Math', 'Physics', 'CompSci']\n"
     ]
    }
   ],
   "source": [
    "list_1 = ['History','Math','Physics','CompSci'] #list is mutuable\n",
    "list_2 = list_1\n",
    "\n",
    "print(list_1)\n",
    "print(list_2)\n",
    "\n",
    "list_1[0] = \"Arts\"\n",
    "\n",
    "print(list_1)\n",
    "print(list_2)"
   ]
  },
  {
   "cell_type": "code",
   "execution_count": null,
   "id": "de43bc49",
   "metadata": {},
   "outputs": [
    {
     "name": "stdout",
     "output_type": "stream",
     "text": [
      "('History', 'Math', 'Physics', 'CompSci')\n",
      "('History', 'Math', 'Physics', 'CompSci')\n"
     ]
    },
    {
     "ename": "TypeError",
     "evalue": "'tuple' object does not support item assignment",
     "output_type": "error",
     "traceback": [
      "\u001b[1;31m---------------------------------------------------------------------------\u001b[0m",
      "\u001b[1;31mTypeError\u001b[0m                                 Traceback (most recent call last)",
      "Cell \u001b[1;32mIn[43], line 7\u001b[0m\n\u001b[0;32m      4\u001b[0m \u001b[38;5;28mprint\u001b[39m(tuple_1)\n\u001b[0;32m      5\u001b[0m \u001b[38;5;28mprint\u001b[39m(tuple_2)\n\u001b[1;32m----> 7\u001b[0m \u001b[43mtuple_1\u001b[49m\u001b[43m[\u001b[49m\u001b[38;5;241;43m0\u001b[39;49m\u001b[43m]\u001b[49m \u001b[38;5;241m=\u001b[39m \u001b[38;5;124m\"\u001b[39m\u001b[38;5;124mArts\u001b[39m\u001b[38;5;124m\"\u001b[39m\n\u001b[0;32m      9\u001b[0m \u001b[38;5;28mprint\u001b[39m(tuple_1)\n\u001b[0;32m     10\u001b[0m \u001b[38;5;28mprint\u001b[39m(tuple_2)\n",
      "\u001b[1;31mTypeError\u001b[0m: 'tuple' object does not support item assignment"
     ]
    }
   ],
   "source": [
    "tuple_1 = ('History','Math','Physics','CompSci') #tuple is immutable\n",
    "tuple_2 = tuple_1\n",
    "\n",
    "print(tuple_1)\n",
    "print(tuple_2)\n",
    "\n",
    "tuple_1[0] = \"Arts\"\n",
    "\n",
    "print(tuple_1)\n",
    "print(tuple_2)"
   ]
  },
  {
   "cell_type": "markdown",
   "id": "561c5e4d",
   "metadata": {},
   "source": [
    "**Sets**"
   ]
  },
  {
   "cell_type": "code",
   "execution_count": 46,
   "id": "0cd28dab",
   "metadata": {},
   "outputs": [
    {
     "name": "stdout",
     "output_type": "stream",
     "text": [
      "{'Math', 'Physics', 'History', 'CompSci'}\n"
     ]
    }
   ],
   "source": [
    "cs_courses = {'History','Math','Physics','CompSci','Math'} # do not take duplicates value\n",
    "print(cs_courses)"
   ]
  },
  {
   "cell_type": "code",
   "execution_count": null,
   "id": "333b4ded",
   "metadata": {},
   "outputs": [
    {
     "name": "stdout",
     "output_type": "stream",
     "text": [
      "True\n"
     ]
    }
   ],
   "source": [
    "print('Math' in cs_courses)"
   ]
  },
  {
   "cell_type": "code",
   "execution_count": 48,
   "id": "619067a2",
   "metadata": {},
   "outputs": [],
   "source": [
    "our_courses = {'History','Math','Art', 'Design'}"
   ]
  },
  {
   "cell_type": "code",
   "execution_count": 50,
   "id": "86822d1d",
   "metadata": {},
   "outputs": [
    {
     "name": "stdout",
     "output_type": "stream",
     "text": [
      "{'Math', 'History'}\n"
     ]
    }
   ],
   "source": [
    "print(cs_courses.intersection(our_courses))"
   ]
  },
  {
   "cell_type": "code",
   "execution_count": 51,
   "id": "b7eebf06",
   "metadata": {},
   "outputs": [
    {
     "name": "stdout",
     "output_type": "stream",
     "text": [
      "{'Physics', 'CompSci'}\n"
     ]
    }
   ],
   "source": [
    "print(cs_courses.difference(our_courses))"
   ]
  },
  {
   "cell_type": "code",
   "execution_count": 52,
   "id": "d92b15d2",
   "metadata": {},
   "outputs": [
    {
     "name": "stdout",
     "output_type": "stream",
     "text": [
      "{'Art', 'History', 'CompSci', 'Physics', 'Math', 'Design'}\n"
     ]
    }
   ],
   "source": [
    "print(cs_courses.union(our_courses))"
   ]
  },
  {
   "cell_type": "markdown",
   "id": "5b39fbc4",
   "metadata": {},
   "source": [
    "**Dictionary**"
   ]
  },
  {
   "cell_type": "code",
   "execution_count": 60,
   "id": "0dce8d67",
   "metadata": {},
   "outputs": [],
   "source": [
    "student = {'name':'John','age': 25, 'courses': ['Math', 'Compsci']}"
   ]
  },
  {
   "cell_type": "code",
   "execution_count": 54,
   "id": "470b3790",
   "metadata": {},
   "outputs": [
    {
     "data": {
      "text/plain": [
       "{'name': 'John', 'age': 25, 'courses': ['Math', 'Compsci']}"
      ]
     },
     "execution_count": 54,
     "metadata": {},
     "output_type": "execute_result"
    }
   ],
   "source": [
    "student"
   ]
  },
  {
   "cell_type": "code",
   "execution_count": 55,
   "id": "7baa5a77",
   "metadata": {},
   "outputs": [
    {
     "data": {
      "text/plain": [
       "'John'"
      ]
     },
     "execution_count": 55,
     "metadata": {},
     "output_type": "execute_result"
    }
   ],
   "source": [
    "student['name']"
   ]
  },
  {
   "cell_type": "code",
   "execution_count": 56,
   "id": "5a2fdb48",
   "metadata": {},
   "outputs": [
    {
     "data": {
      "text/plain": [
       "['Math', 'Compsci']"
      ]
     },
     "execution_count": 56,
     "metadata": {},
     "output_type": "execute_result"
    }
   ],
   "source": [
    "student['courses']"
   ]
  },
  {
   "cell_type": "code",
   "execution_count": 59,
   "id": "09981e76",
   "metadata": {},
   "outputs": [],
   "source": [
    "# student = {1:'John','age': 25, 'courses': ['Math', 'Compsci']}\n",
    "# student[1]"
   ]
  },
  {
   "cell_type": "code",
   "execution_count": null,
   "id": "82a3a01e",
   "metadata": {},
   "outputs": [
    {
     "ename": "KeyError",
     "evalue": "'number'",
     "output_type": "error",
     "traceback": [
      "\u001b[1;31m---------------------------------------------------------------------------\u001b[0m",
      "\u001b[1;31mKeyError\u001b[0m                                  Traceback (most recent call last)",
      "Cell \u001b[1;32mIn[62], line 2\u001b[0m\n\u001b[0;32m      1\u001b[0m \u001b[38;5;66;03m# throws error\u001b[39;00m\n\u001b[1;32m----> 2\u001b[0m \u001b[43mstudent\u001b[49m\u001b[43m[\u001b[49m\u001b[38;5;124;43m'\u001b[39;49m\u001b[38;5;124;43mnumber\u001b[39;49m\u001b[38;5;124;43m'\u001b[39;49m\u001b[43m]\u001b[49m\n",
      "\u001b[1;31mKeyError\u001b[0m: 'number'"
     ]
    }
   ],
   "source": [
    "# throws error if not in the dict\n",
    "student['number']"
   ]
  },
  {
   "cell_type": "code",
   "execution_count": 65,
   "id": "479f76a2",
   "metadata": {},
   "outputs": [
    {
     "name": "stdout",
     "output_type": "stream",
     "text": [
      "None\n"
     ]
    }
   ],
   "source": [
    "# returns none if not in the dict\n",
    "print(student.get('number'))"
   ]
  },
  {
   "cell_type": "code",
   "execution_count": 66,
   "id": "51f9c54c",
   "metadata": {},
   "outputs": [
    {
     "name": "stdout",
     "output_type": "stream",
     "text": [
      "Not Found\n"
     ]
    }
   ],
   "source": [
    "# setting a default value if not found\n",
    "print(student.get('number','Not Found'))"
   ]
  },
  {
   "cell_type": "code",
   "execution_count": 67,
   "id": "e18269e6",
   "metadata": {},
   "outputs": [],
   "source": [
    "student['phone'] = '555-5555'"
   ]
  },
  {
   "cell_type": "code",
   "execution_count": 68,
   "id": "9e493cf6",
   "metadata": {},
   "outputs": [
    {
     "name": "stdout",
     "output_type": "stream",
     "text": [
      "{'name': 'John', 'age': 25, 'courses': ['Math', 'Compsci'], 'phone': '555-5555'}\n"
     ]
    }
   ],
   "source": [
    "print(student)"
   ]
  },
  {
   "cell_type": "code",
   "execution_count": 70,
   "id": "e1c8158d",
   "metadata": {},
   "outputs": [
    {
     "data": {
      "text/plain": [
       "{'name': 'virat',\n",
       " 'age': 25,\n",
       " 'courses': ['Math', 'Compsci'],\n",
       " 'phone': '555-5555'}"
      ]
     },
     "execution_count": 70,
     "metadata": {},
     "output_type": "execute_result"
    }
   ],
   "source": [
    "student['name'] = \"virat\"\n",
    "student"
   ]
  },
  {
   "cell_type": "code",
   "execution_count": 77,
   "id": "4ad6c16b",
   "metadata": {},
   "outputs": [
    {
     "name": "stdout",
     "output_type": "stream",
     "text": [
      "{'name': 'Sunil', 'courses': ['Math', 'Arts'], 'phone': '9981875869', 'age': 23}\n"
     ]
    }
   ],
   "source": [
    "# updating\n",
    "student.update({'name': 'Sunil', 'age': 23, 'courses': ['Math', 'Arts'], 'phone': '9981875869'})\n",
    "print(student)"
   ]
  },
  {
   "cell_type": "code",
   "execution_count": 74,
   "id": "a38c5b6f",
   "metadata": {},
   "outputs": [],
   "source": [
    "# deleting\n",
    "del student['age']"
   ]
  },
  {
   "cell_type": "code",
   "execution_count": 75,
   "id": "9a582316",
   "metadata": {},
   "outputs": [
    {
     "data": {
      "text/plain": [
       "{'name': 'Sunil', 'courses': ['Math', 'Arts'], 'phone': '9981875869'}"
      ]
     },
     "execution_count": 75,
     "metadata": {},
     "output_type": "execute_result"
    }
   ],
   "source": [
    "student"
   ]
  },
  {
   "cell_type": "code",
   "execution_count": 78,
   "id": "c4b6926f",
   "metadata": {},
   "outputs": [],
   "source": [
    "age = student.pop('age')"
   ]
  },
  {
   "cell_type": "code",
   "execution_count": 79,
   "id": "3a6a7c4d",
   "metadata": {},
   "outputs": [
    {
     "data": {
      "text/plain": [
       "23"
      ]
     },
     "execution_count": 79,
     "metadata": {},
     "output_type": "execute_result"
    }
   ],
   "source": [
    "age"
   ]
  },
  {
   "cell_type": "code",
   "execution_count": 80,
   "id": "01ad6011",
   "metadata": {},
   "outputs": [
    {
     "name": "stdout",
     "output_type": "stream",
     "text": [
      "3\n"
     ]
    }
   ],
   "source": [
    "print(len(student))"
   ]
  },
  {
   "cell_type": "code",
   "execution_count": 81,
   "id": "11e2816f",
   "metadata": {},
   "outputs": [
    {
     "name": "stdout",
     "output_type": "stream",
     "text": [
      "dict_keys(['name', 'courses', 'phone'])\n"
     ]
    }
   ],
   "source": [
    "print(student.keys())"
   ]
  },
  {
   "cell_type": "code",
   "execution_count": 82,
   "id": "f0537f1a",
   "metadata": {},
   "outputs": [
    {
     "name": "stdout",
     "output_type": "stream",
     "text": [
      "dict_values(['Sunil', ['Math', 'Arts'], '9981875869'])\n"
     ]
    }
   ],
   "source": [
    "print(student.values())"
   ]
  },
  {
   "cell_type": "code",
   "execution_count": 83,
   "id": "c161d7bb",
   "metadata": {},
   "outputs": [
    {
     "name": "stdout",
     "output_type": "stream",
     "text": [
      "dict_items([('name', 'Sunil'), ('courses', ['Math', 'Arts']), ('phone', '9981875869')])\n"
     ]
    }
   ],
   "source": [
    "print(student.items())"
   ]
  },
  {
   "cell_type": "code",
   "execution_count": 86,
   "id": "f5995299",
   "metadata": {},
   "outputs": [
    {
     "name": "stdout",
     "output_type": "stream",
     "text": [
      "name Sunil\n",
      "courses ['Math', 'Arts']\n",
      "phone 9981875869\n"
     ]
    }
   ],
   "source": [
    "for key, value in student.items():\n",
    "    print(key, value)"
   ]
  },
  {
   "cell_type": "code",
   "execution_count": 87,
   "id": "fc18dabd",
   "metadata": {},
   "outputs": [],
   "source": [
    "inventory = {\"pen\" : {\"Quantity\":15,\"Price\":5},\n",
    "             \"pencil\": {\"Quantity\":20, \"Price\":10},\n",
    "             \"boxes\": {\"Quantity\":10, \"Price\":30},\n",
    "             \"notebooks\": {\"Quantity\":20, \"Price\":50},\n",
    "             \"books\": {\"Quantity\":5, \"Price\":100}\n",
    "             }"
   ]
  },
  {
   "cell_type": "code",
   "execution_count": null,
   "id": "383d6e52",
   "metadata": {},
   "outputs": [
    {
     "data": {
      "text/plain": [
       "15"
      ]
     },
     "execution_count": 88,
     "metadata": {},
     "output_type": "execute_result"
    }
   ],
   "source": [
    "inventory[\"pen\"][\"Quantity\"]"
   ]
  },
  {
   "cell_type": "code",
   "execution_count": null,
   "id": "897a2278",
   "metadata": {},
   "outputs": [],
   "source": []
  }
 ],
 "metadata": {
  "kernelspec": {
   "display_name": "Python 3",
   "language": "python",
   "name": "python3"
  },
  "language_info": {
   "codemirror_mode": {
    "name": "ipython",
    "version": 3
   },
   "file_extension": ".py",
   "mimetype": "text/x-python",
   "name": "python",
   "nbconvert_exporter": "python",
   "pygments_lexer": "ipython3",
   "version": "3.10.11"
  }
 },
 "nbformat": 4,
 "nbformat_minor": 5
}
